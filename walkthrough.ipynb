{
 "cells": [
  {
   "cell_type": "code",
   "execution_count": 1,
   "metadata": {},
   "outputs": [],
   "source": [
    "%load_ext autoreload\n",
    "%autoreload 2"
   ]
  },
  {
   "cell_type": "markdown",
   "metadata": {},
   "source": [
    "# Preparation\n",
    "\n",
    "## Define model"
   ]
  },
  {
   "cell_type": "code",
   "execution_count": 2,
   "metadata": {
    "scrolled": true
   },
   "outputs": [
    {
     "name": "stderr",
     "output_type": "stream",
     "text": [
      "/fs01/home/xiaowenz/494/.env/lib/python3.10/site-packages/tqdm/auto.py:21: TqdmWarning: IProgress not found. Please update jupyter and ipywidgets. See https://ipywidgets.readthedocs.io/en/stable/user_install.html\n",
      "  from .autonotebook import tqdm as notebook_tqdm\n"
     ]
    }
   ],
   "source": [
    "from nnsight import LanguageModel\n",
    "import torch as t\n",
    "\n",
    "t.cuda.empty_cache()\n",
    "\n",
    "device = t.device('cuda:0')\n",
    "dtype = t.float32\n",
    "\n",
    "model = LanguageModel(\n",
    "    'EleutherAI/pythia-70m-deduped',\n",
    "    device_map=device,\n",
    "    dispatch=True,\n",
    "    torch_dtype=dtype,\n",
    ")"
   ]
  },
  {
   "cell_type": "markdown",
   "metadata": {},
   "source": [
    "## Load data"
   ]
  },
  {
   "cell_type": "code",
   "execution_count": 4,
   "metadata": {},
   "outputs": [],
   "source": [
    "import os\n",
    "from data_loading_utils import load_examples_rct\n",
    "from dictionary_loading_utils import load_saes_and_submodules\n",
    "\n",
    "category = 'concise'\n",
    "num_examples = 100\n",
    "train_clean, train_patch = load_examples_rct(os.path.join('prompts', category), 50)\n",
    "save_base = f'pythia-70m-deduped_prompt_dir_{category}_n{num_examples}'\n",
    "\n",
    "submods, SAEs = load_saes_and_submodules(\n",
    "    model,\n",
    "    separate_by_type=True,\n",
    "    include_embed=True,\n",
    "    device=device,\n",
    "    dtype=dtype,\n",
    ")"
   ]
  },
  {
   "cell_type": "markdown",
   "metadata": {},
   "source": [
    "# Experiment\n",
    "\n",
    "## Clean run"
   ]
  },
  {
   "cell_type": "code",
   "execution_count": 5,
   "metadata": {},
   "outputs": [],
   "source": [
    "from attribution import get_activations\n",
    "from metrics import eos_metric\n",
    "from activation_utils import SparseAct\n",
    "\n",
    "metric_fn = eos_metric\n",
    "metric_kwargs = dict()\n",
    "submods_flat = [\n",
    "    submod for layer_submods in zip(submods.attns, submods.mlps, submods.resids) for submod in layer_submods\n",
    "]\n",
    "clean_acts, clean_metric = get_activations(\n",
    "    model,\n",
    "    train_clean,\n",
    "    submods_flat,\n",
    "    SAEs,\n",
    "    metric_fn = eos_metric\n",
    ")"
   ]
  },
  {
   "cell_type": "markdown",
   "metadata": {},
   "source": [
    "## Patched run (with explicit behaviour elicitation)"
   ]
  },
  {
   "cell_type": "code",
   "execution_count": 6,
   "metadata": {},
   "outputs": [],
   "source": [
    "patch_acts, patch_metric = get_activations(\n",
    "    model,\n",
    "    train_patch,\n",
    "    submods_flat,\n",
    "    SAEs,\n",
    "    metric_fn = eos_metric\n",
    ")"
   ]
  },
  {
   "cell_type": "code",
   "execution_count": 15,
   "metadata": {},
   "outputs": [
    {
     "name": "stderr",
     "output_type": "stream",
     "text": [
      "100%|██████████| 18/18 [36:07<00:00, 120.44s/it]\n"
     ]
    }
   ],
   "source": [
    "from attribution import pe_exact\n",
    "effect = pe_exact(\n",
    "    model, \n",
    "    train_clean,\n",
    "    clean_acts,\n",
    "    patch_acts,\n",
    "    submods_flat, \n",
    "    SAEs,\n",
    "    metric_fn,\n",
    "    patch_pos=-1,\n",
    ")"
   ]
  },
  {
   "cell_type": "code",
   "execution_count": null,
   "metadata": {},
   "outputs": [],
   "source": [
    "effects, deltas, grads, total_effect = effect"
   ]
  },
  {
   "cell_type": "code",
   "execution_count": 17,
   "metadata": {},
   "outputs": [],
   "source": [
    "import pickle\n",
    "with open('effect_0.pkl', 'wb') as f:\n",
    "    pickle.dump(effect, f)"
   ]
  },
  {
   "cell_type": "code",
   "execution_count": null,
   "metadata": {},
   "outputs": [],
   "source": [
    "embed = submods.embed\n",
    "attns = submods.attns\n",
    "mlps = submods.mlps\n",
    "resids = submods.resids\n",
    "\n",
    "n_layers = len(resids)\n",
    "total_effect = \n",
    "nodes = {\"y\": total_effect}\n",
    "for i in range(n_layers):\n",
    "    nodes[f\"attn_{i}\"] = effects[attns[i]]\n",
    "    nodes[f\"mlp_{i}\"] = effects[mlps[i]]\n",
    "    nodes[f\"resid_{i}\"] = effects[resids[i]]\n",
    "\n",
    "effects[attns[0]].shape"
   ]
  }
 ],
 "metadata": {
  "kernelspec": {
   "display_name": ".env",
   "language": "python",
   "name": ".env"
  },
  "language_info": {
   "codemirror_mode": {
    "name": "ipython",
    "version": 3
   },
   "file_extension": ".py",
   "mimetype": "text/x-python",
   "name": "python",
   "nbconvert_exporter": "python",
   "pygments_lexer": "ipython3",
   "version": "3.10.12"
  }
 },
 "nbformat": 4,
 "nbformat_minor": 4
}
