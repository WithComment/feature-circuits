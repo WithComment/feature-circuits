{
 "cells": [
  {
   "cell_type": "code",
   "execution_count": 1,
   "metadata": {},
   "outputs": [],
   "source": [
    "%load_ext autoreload\n",
    "%autoreload 2"
   ]
  },
  {
   "cell_type": "markdown",
   "metadata": {},
   "source": [
    "# Preparation\n",
    "\n",
    "## Define model"
   ]
  },
  {
   "cell_type": "code",
   "execution_count": 2,
   "metadata": {
    "scrolled": true
   },
   "outputs": [
    {
     "name": "stderr",
     "output_type": "stream",
     "text": [
      "/fs01/home/xiaowenz/494/.env/lib/python3.10/site-packages/tqdm/auto.py:21: TqdmWarning: IProgress not found. Please update jupyter and ipywidgets. See https://ipywidgets.readthedocs.io/en/stable/user_install.html\n",
      "  from .autonotebook import tqdm as notebook_tqdm\n"
     ]
    }
   ],
   "source": [
    "from nnsight import LanguageModel\n",
    "import torch as t\n",
    "\n",
    "t.cuda.empty_cache()\n",
    "\n",
    "device = t.device('cuda:0')\n",
    "dtype = t.float32\n",
    "\n",
    "model = LanguageModel(\n",
    "    'EleutherAI/pythia-70m-deduped',\n",
    "    device_map=device,\n",
    "    dispatch=True,\n",
    "    torch_dtype=dtype,\n",
    ")"
   ]
  },
  {
   "cell_type": "markdown",
   "metadata": {},
   "source": [
    "## Load data"
   ]
  },
  {
   "cell_type": "code",
   "execution_count": 3,
   "metadata": {},
   "outputs": [],
   "source": [
    "import os\n",
    "from data_loading_utils import load_examples_rct\n",
    "from dictionary_loading_utils import load_saes_and_submodules\n",
    "\n",
    "category = 'concise'\n",
    "num_examples = 100\n",
    "train_clean, train_patch = load_examples_rct(os.path.join('prompts', category), 50)\n",
    "save_base = f'pythia-70m-deduped_prompt_dir_{category}_n{num_examples}'\n",
    "\n",
    "submods, SAEs = load_saes_and_submodules(\n",
    "    model,\n",
    "    separate_by_type=False,\n",
    "    include_embed=True,\n",
    "    device=device,\n",
    "    dtype=dtype,\n",
    ")"
   ]
  },
  {
   "cell_type": "markdown",
   "metadata": {},
   "source": [
    "# Experiment\n",
    "\n",
    "## Clean run"
   ]
  },
  {
   "cell_type": "code",
   "execution_count": 4,
   "metadata": {},
   "outputs": [
    {
     "name": "stderr",
     "output_type": "stream",
     "text": [
      "You're using a GPTNeoXTokenizerFast tokenizer. Please note that with a fast tokenizer, using the `__call__` method is faster than using a method to encode the text followed by a call to the `pad` method to get a padded encoding.\n"
     ]
    }
   ],
   "source": [
    "from attribution import get_activations, create_batches\n",
    "from metrics import eos_metric\n",
    "from activation_utils import SparseAct\n",
    "\n",
    "metric_fn = eos_metric\n",
    "calc_metric = True\n",
    "metric_kwargs = dict()\n",
    "\n",
    "clean_acts, clean_metric = get_activations(\n",
    "    model,\n",
    "    train_clean,\n",
    "    submods,\n",
    "    SAEs,\n",
    "    calc_metric=True,\n",
    "    metric_fn = eos_metric\n",
    ")"
   ]
  },
  {
   "cell_type": "markdown",
   "metadata": {},
   "source": [
    "## Patched run (with explicit behaviour elicitation)"
   ]
  },
  {
   "cell_type": "code",
   "execution_count": 5,
   "metadata": {},
   "outputs": [],
   "source": [
    "patch_acts, patch_metric = get_activations(\n",
    "    model,\n",
    "    train_patch,\n",
    "    submods,\n",
    "    SAEs,\n",
    "    calc_metric=True,\n",
    "    metric_fn = eos_metric\n",
    ")"
   ]
  },
  {
   "cell_type": "code",
   "execution_count": 7,
   "metadata": {},
   "outputs": [
    {
     "name": "stderr",
     "output_type": "stream",
     "text": [
      "100%|██████████| 19/19 [09:19<00:00, 29.46s/it]\n"
     ]
    }
   ],
   "source": [
    "from attribution import pe_exact\n",
    "effect = pe_exact(model, train_clean, clean_acts, patch_acts, submods, SAEs, metric_fn)"
   ]
  }
 ],
 "metadata": {
  "kernelspec": {
   "display_name": ".env",
   "language": "python",
   "name": ".env"
  },
  "language_info": {
   "codemirror_mode": {
    "name": "ipython",
    "version": 3
   },
   "file_extension": ".py",
   "mimetype": "text/x-python",
   "name": "python",
   "nbconvert_exporter": "python",
   "pygments_lexer": "ipython3",
   "version": "3.10.12"
  }
 },
 "nbformat": 4,
 "nbformat_minor": 4
}
